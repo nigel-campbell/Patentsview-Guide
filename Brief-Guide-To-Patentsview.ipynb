{
 "cells": [
  {
   "cell_type": "markdown",
   "metadata": {},
   "source": [
    "## A Brief Guide to the Patentsview API"
   ]
  },
  {
   "cell_type": "code",
   "execution_count": 4,
   "metadata": {
    "collapsed": true
   },
   "outputs": [],
   "source": [
    "import requests\n",
    "import json\n",
    "import pandas as pd\n",
    "import os.path"
   ]
  },
  {
   "cell_type": "markdown",
   "metadata": {},
   "source": [
    "`requests` is a Python library that... well, let's you make HTTP requests. So this pretty much allows you to communicate with any website, API, etc. If it uses HTTP (i.e. it can be viewed in a browser), `requests` can fetch it programmatically for you. And it's a perfect tool for Patentsview."
   ]
  },
  {
   "cell_type": "markdown",
   "metadata": {},
   "source": [
    "A lot of websites have publicly accessible APIs with decent documentation. Twitter and Reddit are good examples of *good* API design/documentation.\n",
    "\n",
    "Unfortunately, Patentsview is not as thorough so I'm still figuring it out.. Maybe I'm just slow.\n",
    "\n",
    "Below is an example of how I'm fetching the abstracts for my current set of patent IDs. "
   ]
  },
  {
   "cell_type": "code",
   "execution_count": 13,
   "metadata": {
    "collapsed": true
   },
   "outputs": [],
   "source": [
    "def fetch_selected_abstracts(patent_ids):\n",
    "    base_url = \"http://www.patentsview.org/api/patents/query?\"\n",
    "    query = \"q={\\\"patent_id\\\":\\\"%s\\\"}\" # WTF is all this???\n",
    "    return_format = \"&f=[\\\"patent_number\\\",\\\"patent_abstract\\\"]\" # And this???\n",
    "    selected_abstracts = {}\n",
    "    for patent_id in patent_ids:\n",
    "        # Concatenates base_url, query (after inserting patent_id) and return_format\n",
    "        url = base_url+(query % patent_id)+return_format \n",
    "        response = requests.get(url)\n",
    "        selected_abstracts[patent_id] = response.json()['patents'][0]['patent_abstract']\n",
    "    return pd.DataFrame(list(selected_abstracts.items()), columns=['patent_id', 'abstract'])"
   ]
  },
  {
   "cell_type": "markdown",
   "metadata": {},
   "source": [
    "The `base_url` is the patents website: `\"http://www.patentsview.org/api/patents/query?\"`\n",
    "\n",
    "The `query` represents the query (and all the fields): `\"q={\\\"patent_id\\\":\\\"%s\\\"}\"`\n",
    "\n",
    "It's kinda confusing, but we can break it down.\n",
    "\n",
    "`{\\\"patent_id\\\":\\\"%s\\\"}]` basically means `{patent_id : <insert_id_here>}`. Which in this context, means to query the API for a particular patent ID. Alot of the minutiae is because HTTP can't really parse quotes and whitespace characters within a URL. So we have to add a lot of escape characters (backslashes) so that HTTP can parse the URL correctly.\n",
    "\n",
    "The `return_format` is similar to `query`: `\"&f=[\\\"patent_number\\\",\\\"patent_abstract\\\"]\"`\n",
    "\n",
    "where `\"&f=[\\\"patent_number\\\",\\\"patent_abstract\\\"]\"` => `[\"patent_number\", \"patent_abstracts\"]` since I want the patent number and the abstract to be returned.\n"
   ]
  },
  {
   "cell_type": "code",
   "execution_count": 12,
   "metadata": {
    "collapsed": false
   },
   "outputs": [
    {
     "name": "stdout",
     "output_type": "stream",
     "text": [
      "CPU times: user 16.7 ms, sys: 3.94 ms, total: 20.6 ms\n",
      "Wall time: 387 ms\n"
     ]
    },
    {
     "data": {
      "text/html": [
       "<div>\n",
       "<table border=\"1\" class=\"dataframe\">\n",
       "  <thead>\n",
       "    <tr style=\"text-align: right;\">\n",
       "      <th></th>\n",
       "      <th>patent_id</th>\n",
       "      <th>abstract</th>\n",
       "    </tr>\n",
       "  </thead>\n",
       "  <tbody>\n",
       "    <tr>\n",
       "      <th>0</th>\n",
       "      <td>7018053</td>\n",
       "      <td>A projector includes circuitry configured to g...</td>\n",
       "    </tr>\n",
       "    <tr>\n",
       "      <th>1</th>\n",
       "      <td>6790432</td>\n",
       "      <td>Provided is a method and apparatus for produci...</td>\n",
       "    </tr>\n",
       "    <tr>\n",
       "      <th>2</th>\n",
       "      <td>6564038</td>\n",
       "      <td>A method and apparatus are disclosed for suppr...</td>\n",
       "    </tr>\n",
       "    <tr>\n",
       "      <th>3</th>\n",
       "      <td>6726725</td>\n",
       "      <td>Orthopedic implants comprising components of z...</td>\n",
       "    </tr>\n",
       "    <tr>\n",
       "      <th>4</th>\n",
       "      <td>6716898</td>\n",
       "      <td>Disclosed are amber polyester compositions sui...</td>\n",
       "    </tr>\n",
       "  </tbody>\n",
       "</table>\n",
       "</div>"
      ],
      "text/plain": [
       "  patent_id                                           abstract\n",
       "0   7018053  A projector includes circuitry configured to g...\n",
       "1   6790432  Provided is a method and apparatus for produci...\n",
       "2   6564038  A method and apparatus are disclosed for suppr...\n",
       "3   6726725  Orthopedic implants comprising components of z...\n",
       "4   6716898  Disclosed are amber polyester compositions sui..."
      ]
     },
     "execution_count": 12,
     "metadata": {},
     "output_type": "execute_result"
    }
   ],
   "source": [
    "patent_ids = ['7018053', '6790432', '6564038', '6726725', '6716898']\n",
    "%time selected_abstracts = fetch_selected_abstracts(patent_ids)\n",
    "selected_abstracts.head()"
   ]
  },
  {
   "cell_type": "code",
   "execution_count": null,
   "metadata": {
    "collapsed": true
   },
   "outputs": [],
   "source": []
  }
 ],
 "metadata": {
  "anaconda-cloud": {},
  "kernelspec": {
   "display_name": "Python 3",
   "language": "python",
   "name": "python3"
  },
  "language_info": {
   "codemirror_mode": {
    "name": "ipython",
    "version": 3
   },
   "file_extension": ".py",
   "mimetype": "text/x-python",
   "name": "python",
   "nbconvert_exporter": "python",
   "pygments_lexer": "ipython3",
   "version": "3.6.0"
  }
 },
 "nbformat": 4,
 "nbformat_minor": 1
}
